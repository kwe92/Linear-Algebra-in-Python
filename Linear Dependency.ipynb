{
 "cells": [
  {
   "cell_type": "code",
   "execution_count": 1,
   "id": "f9973aca",
   "metadata": {},
   "outputs": [],
   "source": [
    "import pandas as pd\n",
    "import numpy as np"
   ]
  },
  {
   "cell_type": "code",
   "execution_count": 3,
   "id": "7893cb07",
   "metadata": {},
   "outputs": [],
   "source": [
    "a = np.array"
   ]
  },
  {
   "cell_type": "code",
   "execution_count": 17,
   "id": "7460704f",
   "metadata": {},
   "outputs": [],
   "source": [
    "c1 = 36\n",
    "c2 = -15\n",
    "c3 = -3"
   ]
  },
  {
   "cell_type": "code",
   "execution_count": 18,
   "id": "92a5dc47",
   "metadata": {},
   "outputs": [],
   "source": [
    "v1 = a([2,1])\n",
    "v2 = a([3,2])\n",
    "v3 = a([1,2])"
   ]
  },
  {
   "cell_type": "code",
   "execution_count": 19,
   "id": "03556862",
   "metadata": {},
   "outputs": [
    {
     "data": {
      "text/plain": [
       "array([24,  0])"
      ]
     },
     "execution_count": 19,
     "metadata": {},
     "output_type": "execute_result"
    }
   ],
   "source": [
    "(c1 * v1) + (c2 * v2) + (c3 * v3)"
   ]
  },
  {
   "cell_type": "code",
   "execution_count": 20,
   "id": "c58b593a",
   "metadata": {},
   "outputs": [
    {
     "data": {
      "text/plain": [
       "array([72, 36])"
      ]
     },
     "execution_count": 20,
     "metadata": {},
     "output_type": "execute_result"
    }
   ],
   "source": [
    "(c1 * v1)"
   ]
  },
  {
   "cell_type": "code",
   "execution_count": 21,
   "id": "1f16c6ba",
   "metadata": {},
   "outputs": [
    {
     "data": {
      "text/plain": [
       "array([-45, -30])"
      ]
     },
     "execution_count": 21,
     "metadata": {},
     "output_type": "execute_result"
    }
   ],
   "source": [
    "(c2 * v2)"
   ]
  },
  {
   "cell_type": "code",
   "execution_count": 22,
   "id": "6aefd4bc",
   "metadata": {},
   "outputs": [
    {
     "data": {
      "text/plain": [
       "array([-3, -6])"
      ]
     },
     "execution_count": 22,
     "metadata": {},
     "output_type": "execute_result"
    }
   ],
   "source": [
    "(c3 * v3)"
   ]
  },
  {
   "cell_type": "code",
   "execution_count": null,
   "id": "d1f9ef85",
   "metadata": {},
   "outputs": [],
   "source": []
  },
  {
   "cell_type": "code",
   "execution_count": 23,
   "id": "ddf6eead",
   "metadata": {},
   "outputs": [],
   "source": [
    "c1 = -4\n",
    "c2 = 3\n",
    "c3 = -1"
   ]
  },
  {
   "cell_type": "code",
   "execution_count": 24,
   "id": "9927a9ec",
   "metadata": {},
   "outputs": [],
   "source": [
    "v1 = a([2,1])\n",
    "v2 = a([3,2])\n",
    "v3 = a([1,2])"
   ]
  },
  {
   "cell_type": "code",
   "execution_count": 25,
   "id": "bfef0e17",
   "metadata": {},
   "outputs": [
    {
     "data": {
      "text/plain": [
       "array([0, 0])"
      ]
     },
     "execution_count": 25,
     "metadata": {},
     "output_type": "execute_result"
    }
   ],
   "source": [
    "(c1 * v1) + (c2 * v2) + (c3 * v3)"
   ]
  },
  {
   "cell_type": "code",
   "execution_count": null,
   "id": "7e533d56",
   "metadata": {},
   "outputs": [],
   "source": []
  }
 ],
 "metadata": {
  "kernelspec": {
   "display_name": "Python 3",
   "language": "python",
   "name": "python3"
  },
  "language_info": {
   "codemirror_mode": {
    "name": "ipython",
    "version": 3
   },
   "file_extension": ".py",
   "mimetype": "text/x-python",
   "name": "python",
   "nbconvert_exporter": "python",
   "pygments_lexer": "ipython3",
   "version": "3.8.8"
  }
 },
 "nbformat": 4,
 "nbformat_minor": 5
}
