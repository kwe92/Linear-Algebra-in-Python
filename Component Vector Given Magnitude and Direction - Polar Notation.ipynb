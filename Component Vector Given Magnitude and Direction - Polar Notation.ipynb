{
 "cells": [
  {
   "cell_type": "code",
   "execution_count": 49,
   "id": "5738db4d",
   "metadata": {},
   "outputs": [],
   "source": [
    "from scipy import stats\n",
    "import pandas as pd\n",
    "import numpy as np"
   ]
  },
  {
   "cell_type": "code",
   "execution_count": 50,
   "id": "3822d93e",
   "metadata": {},
   "outputs": [],
   "source": [
    "r2 = lambda x: round(x,2)"
   ]
  },
  {
   "cell_type": "code",
   "execution_count": 51,
   "id": "a2c1a997",
   "metadata": {},
   "outputs": [],
   "source": [
    "def mag_direct_comp(v1,v2):\n",
    "    comp_v1_v2 = (r2(v1[0] * np.cos(np.radians(v1[1])) + v2[0] * np.cos(np.radians(v2[1])))\n",
    "                 ,r2(v1[0] * np.sin(np.radians(v1[1])) + v2[0] * np.sin(np.radians(v2[1]))))\n",
    "    return comp_v1_v2"
   ]
  },
  {
   "cell_type": "code",
   "execution_count": 52,
   "id": "50c91e7d",
   "metadata": {},
   "outputs": [],
   "source": [
    "v = (4,310)\n",
    "w = (7,50)"
   ]
  },
  {
   "cell_type": "code",
   "execution_count": 53,
   "id": "edaa5f50",
   "metadata": {},
   "outputs": [
    {
     "data": {
      "text/plain": [
       "(7.07, 2.3)"
      ]
     },
     "execution_count": 53,
     "metadata": {},
     "output_type": "execute_result"
    }
   ],
   "source": [
    "# compnent form of v + w\n",
    "\n",
    "mag_direct_comp(v,w)"
   ]
  },
  {
   "cell_type": "code",
   "execution_count": 54,
   "id": "9e24f03d",
   "metadata": {},
   "outputs": [],
   "source": [
    "v = (7,310)\n",
    "w = (3,70)"
   ]
  },
  {
   "cell_type": "code",
   "execution_count": 55,
   "id": "b4def59c",
   "metadata": {},
   "outputs": [
    {
     "data": {
      "text/plain": [
       "(5.53, -2.54)"
      ]
     },
     "execution_count": 55,
     "metadata": {},
     "output_type": "execute_result"
    }
   ],
   "source": [
    "# compnent form of v + w\n",
    "\n",
    "mag_direct_comp(v,w)"
   ]
  },
  {
   "cell_type": "code",
   "execution_count": 56,
   "id": "34477f6f",
   "metadata": {},
   "outputs": [],
   "source": [
    "v = (7,200)\n",
    "w = (5, 70)"
   ]
  },
  {
   "cell_type": "code",
   "execution_count": 57,
   "id": "65a3f2d4",
   "metadata": {},
   "outputs": [
    {
     "data": {
      "text/plain": [
       "(-4.87, 2.3)"
      ]
     },
     "execution_count": 57,
     "metadata": {},
     "output_type": "execute_result"
    }
   ],
   "source": [
    "# compnent form of v + w\n",
    "\n",
    "mag_direct_comp(v,w)"
   ]
  },
  {
   "cell_type": "code",
   "execution_count": 58,
   "id": "ee2c4f70",
   "metadata": {},
   "outputs": [],
   "source": [
    "v = (5,170)\n",
    "w = (6,260)"
   ]
  },
  {
   "cell_type": "code",
   "execution_count": 59,
   "id": "10b96c05",
   "metadata": {},
   "outputs": [
    {
     "data": {
      "text/plain": [
       "(-5.97, -5.04)"
      ]
     },
     "execution_count": 59,
     "metadata": {},
     "output_type": "execute_result"
    }
   ],
   "source": [
    "# compnent form of v + w\n",
    "\n",
    "mag_direct_comp(v,w)"
   ]
  },
  {
   "cell_type": "code",
   "execution_count": 60,
   "id": "ddd63272",
   "metadata": {},
   "outputs": [],
   "source": [
    "v = (8,320)\n",
    "w = (6, 100)"
   ]
  },
  {
   "cell_type": "code",
   "execution_count": 61,
   "id": "67dab0c4",
   "metadata": {},
   "outputs": [
    {
     "data": {
      "text/plain": [
       "(5.09, 0.77)"
      ]
     },
     "execution_count": 61,
     "metadata": {},
     "output_type": "execute_result"
    }
   ],
   "source": [
    "# compnent form of v + w\n",
    "\n",
    "mag_direct_comp(v,w)"
   ]
  },
  {
   "cell_type": "code",
   "execution_count": 62,
   "id": "cdf66458",
   "metadata": {},
   "outputs": [
    {
     "data": {
      "text/plain": [
       "2.598076211353316"
      ]
     },
     "execution_count": 62,
     "metadata": {},
     "output_type": "execute_result"
    }
   ],
   "source": [
    "3 * np.sqrt(3)/2"
   ]
  },
  {
   "cell_type": "code",
   "execution_count": 64,
   "id": "ba1c8a43",
   "metadata": {},
   "outputs": [
    {
     "data": {
      "text/plain": [
       "2.598076211353316"
      ]
     },
     "execution_count": 64,
     "metadata": {},
     "output_type": "execute_result"
    }
   ],
   "source": [
    "3 * np.cos(np.radians(30))"
   ]
  }
 ],
 "metadata": {
  "kernelspec": {
   "display_name": "Python 3",
   "language": "python",
   "name": "python3"
  },
  "language_info": {
   "codemirror_mode": {
    "name": "ipython",
    "version": 3
   },
   "file_extension": ".py",
   "mimetype": "text/x-python",
   "name": "python",
   "nbconvert_exporter": "python",
   "pygments_lexer": "ipython3",
   "version": "3.8.8"
  }
 },
 "nbformat": 4,
 "nbformat_minor": 5
}
